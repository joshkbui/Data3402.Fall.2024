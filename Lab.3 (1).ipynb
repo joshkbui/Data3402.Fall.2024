{
 "cells": [
  {
   "cell_type": "markdown",
   "metadata": {},
   "source": [
    "# Lab 3\n",
    "\n",
    "In this lab we will become familiar with distributions, histograms, and functional programming. Do not use numpy or any other library for this lab.\n",
    "\n",
    "Before that, lets get setup homework submission and submit your previous lab.  \n",
    "\n",
    "## Working on the Command-line.\n",
    "\n",
    "It is important for you to learn to work on the command line and to be familiar with the Unix environment (e.g. Linux, Mac OS, or Windows Linux Subsystem). We'll go over working on the command-line in detail later in the course.\n",
    "\n",
    "You are required to submit your work in this course via GitHub. Today in class, you will setup everything on the command-line.\n",
    "\n",
    "### Command-line basics\n",
    "\n",
    "There is plenty of material online that will help you figure out how to do various tasks on the command line. Commands you may need to know today:\n",
    "\n",
    "* `ls`: lists the contents of the current directory.\n",
    "* `pwd`: prints the path of the current directory.\n",
    "* `cd <directory>`: changes your current directory to the specified directory.\n",
    "* `cd ..`: changes current directory to the previous directory. Basically steps out of the current directory to the directory containing the current directory.\n",
    "* `mkdir <directory>`: create a new directory with the specified name.\n",
    "* `rmdir <directory>`: removes the specified directory. Note it has to be empty.\n",
    "* `rm <filename>`: deletes the specified file.\n",
    "* `mv <filename 1> <filename 1>`: Moves or renames a file.\n",
    "* `cp <filename 1> <filename 2>`: copies an file. If you just provide a path to a directory, it copies the file into that directory with the same filename. If you specifiy a new filename, the copy has a new name. For example `cp File.1.txt File.2.txt` creates a copy of `File.1.txt` with the name `File.2.txt`. Meanwhile `cp File.1.txt my_directory`, where `my_directory` is a directory, creates a copy of `File.1.txt` in directory `my_directory` with the name `File.1.txt`.\n",
    "\n",
    "For reference, here are some example resources I found by googling:\n",
    "\n",
    "* Paths and Wildcards: https://www.warp.dev/terminus/linux-wildcards\n",
    "* Basic commands like copy: https://kb.iu.edu/d/afsk\n",
    "* General introduction to shell: https://github-pages.ucl.ac.uk/RCPSTrainingMaterials/HPCandHTCusingLegion/2_intro_to_shell.html\n",
    "* Manual pages: https://www.geeksforgeeks.org/linux-man-page-entries-different-types/?ref=ml_lbp\n",
    "* Chaining commands: https://www.geeksforgeeks.org/chaining-commands-in-linux/?ref=ml_lbp\n",
    "* Piping: https://www.geeksforgeeks.org/piping-in-unix-or-linux/\n",
    "* Using sed: https://www.geeksforgeeks.org/sed-command-linux-set-2/?ref=ml_lbp\n",
    "* Various Unix commands: https://www.geeksforgeeks.org/linux-commands/?ref=lbp\n",
    "* Cheat sheets:\n",
    "    * https://www.stationx.net/unix-commands-cheat-sheet/\n",
    "    * https://cheatography.com/davechild/cheat-sheets/linux-command-line/\n",
    "    * https://www.theknowledgeacademy.com/blog/unix-commands-cheat-sheet/\n",
    "    \n",
    "These aren't necessarily the best resources. Feel free to search for better ones. Also, don't forget that Unix has built-in manual pages for all of its commands. Just type `man <command>` at the command prompt. Use the space-bar to scroll through the documentation and \"q\" to exit.\n",
    "\n",
    "\n",
    "### Setup and Submission\n",
    "\n",
    "Our course repository is public. The instructions here aim to have you setup a fork of the course repository. Unfortunately because you are forking a public repo, your fork will have to be public also. \n",
    "\n",
    "You should be familiar with git from the first semester of this course. I assume that you all have github accounts and have setup things to be able to [push to github using ssh](https://docs.github.com/en/github/authenticating-to-github/connecting-to-github-with-ssh). The instuctions here lead you to:\n",
    "\n",
    "We'll overview what you will do before going through step by step instructions.\n",
    "\n",
    "1. Setup:\n",
    "    1. Fork the class repository. Some directions in [fork-a-repo](https://docs.github.com/en/github/getting-started-with-github/fork-a-repo).\n",
    "    1. Create a directory on your personal system where you will keep all course materials.\n",
    "    1. In that directory, clone your fork of the repository.\n",
    "    1. Using `git remote`, set the upstream to be the class repo, so you can pull from the class and push to your fork.\n",
    "\n",
    "1. Submission:\n",
    "    1. Copy your solutions into the appropriate directory (e.g. into `Labs/Lab.2/`) and with appropriate filename `Lab.2.solution.ipynb'.\n",
    "    1. Commit / push your solutions.\n",
    "    1. Grant access to course instructors.\n",
    "\n",
    "Below are step by step instructions with examples (including example directory naming convention). Feel free to modify things as you see fit. \n",
    "\n",
    "#### Setup\n",
    "You should only need to follow this instructions once. Here are some useful git commands:\n",
    "\n",
    "* Git help: `git help`\n",
    "* Git remote help: `git help remote`\n",
    "* Check remote status: `git remote -v`\n",
    "* Add a remote: `git remote add <stream name> <repo URL>`\n",
    "* Add a remove: `git remote remove <stream name>`\n",
    "\n",
    "Steps:\n",
    "1. In a browser, log into GitHub and navigate to the [course repository](https://github.com/UTA-DataScience/DATA3402.Fall.2024).\n",
    "1. On the top right of the page, press the fork button to create a new fork into your own GitHub account.\n",
    "1. After successful fork, you should find the browser showing your fork of the course repository. Use the green \"Code\" button to copy path to the repo into your the clipboard of your computer.\n",
    "1. Open a shell on your personal computer.\n",
    "1. If you have not done so already, create a new directory/folder where you will keep all course material to navigate to it. For example: `mkdir Data-3402` and `cd Data-3402`.\n",
    "1. Clone your fork of the repository using `git clone` followed by the path you copied into your clipboard. (copy/paste)\n",
    "1. Paste the URL to your fork in the worksheet for the TAs and instructors.\n",
    "1. Now go into the directory of your clone (`cd DATA3402.Fall.2024`).\n",
    "1. Type `git remote -v` to see the current setup for fetch and pull.\n",
    "1. Note the URL you see. This should be the same as what you used for your clone for both push and fetch.\n",
    "1. Delete the origin remote using `git remote remove origin`.\n",
    "1. Add the course repo as your remote using `git remote add origin https://github.com/UTA-DataScience/DATA3402.Fall.2024.git`.\n",
    "1. Change the push to point to your fork. This means you will need the URL to your clone we copied earlier and confirmed as the original origin. The command will look something like: `git remote set-url --push origin  https://github.com/XXXXXX/DATA3402.Fall.2024.git`, where XXXXX is your username on GitHub.\n",
    "1. Note that if you setup everything correctly, you now should be able to do `git pull` to get updates from the course repo, and do `git push` to push your commits into your own fork.\n",
    "\n",
    "### Submission\n",
    "These instructions outline how you submit files. Some useful commands:\n",
    "* To add a file to local repository: `git add <file>`.\n",
    "* To commit all changed files into local repository: `git -a -m \"A message\"`. You need to provide some comment when you commit. \n",
    "* To push the commited files from the local repository to GitHub: `git push`.\n",
    "* To get updates from GitHub: `git pull`.\n",
    "\n",
    "Steps:\n",
    "1. To submit your labs, navigate to your clone of your fork of the course repository. \n",
    "1. Use `git pull` to make sure you have the latest updates. \n",
    "1. Make sure your copy of the lab your are working on is in the appropriate place in this clone. That means if you have the file elsewhere, copy it to the same directory in your clone of your fork. \n",
    "1. Note that in order to avoid future conflicts, you should always name your solution differently than the original file in the class repo. For example if your file is still named `Lab.2.ipynb` you should rename it using the `mv` command: `mv Lab.2.ipynb Lab.2.solution.ipynb`. \n",
    "1. Add and files you wish to submit into the repo. For example: `git add Labs/Lab.2/Lab.2.solution.ipynb`\n",
    "1. Commit any changes: `git commit -a -m \"Lab 2 updates\"`\n",
    "1. Push your changes: `git push`\n",
    "1. Check on github website that your solutions have been properly submitted.\n",
    "\n",
    "Before you leave the session today, submit your Lab.2 solution as is now to make sure you can do it. If you need to work further on your lab, navigate jupyter to the copy of the lab you just submitted and work there. Once done, repeat the commit and push commands to submit your updated solution. Note that lab 2 is due by midnight Monday  9/8/2024.\n"
   ]
  },
  {
   "cell_type": "markdown",
   "metadata": {},
   "source": [
    "### Uniform Distribution\n",
    "Lets start with generating some fake random data. You can get a random number between 0 and 1 using the python random module as follow:"
   ]
  },
  {
   "cell_type": "code",
   "execution_count": 21,
   "metadata": {},
   "outputs": [
    {
     "name": "stdout",
     "output_type": "stream",
     "text": [
      "The Value of x is 0.2844026463720086\n"
     ]
    }
   ],
   "source": [
    "import random\n",
    "x=random.random()\n",
    "print(\"The Value of x is\", x)"
   ]
  },
  {
   "cell_type": "markdown",
   "metadata": {},
   "source": [
    "Everytime you call random, you will get a new number.\n",
    "\n",
    "*Exercise 1:* Using random, write a function `generate_uniform(N, mymin, mymax)`, that returns a python list containing N random numbers between specified minimum and maximum value. Note that you may want to quickly work out on paper how to turn numbers between 0 and 1 to between other values. "
   ]
  },
  {
   "cell_type": "code",
   "execution_count": 22,
   "metadata": {},
   "outputs": [],
   "source": [
    "import random\n",
    "\n",
    "def generate_uniform(N, x_min, x_max):\n",
    "    out = []\n",
    "    for _ in range(N):\n",
    "        out.append(random.random() * (x_max - x_min) + x_min)\n",
    "    return out\n"
   ]
  },
  {
   "cell_type": "code",
   "execution_count": 23,
   "metadata": {},
   "outputs": [
    {
     "name": "stdout",
     "output_type": "stream",
     "text": [
      "Data Type: <class 'list'>\n",
      "Data Length: 1000\n",
      "Type of Data Contents: <class 'float'>\n",
      "Data Minimum: -9.995023490784083\n",
      "Data Maximum: 9.990186490649162\n"
     ]
    }
   ],
   "source": [
    "# Test the function\n",
    "data = generate_uniform(1000, -10, 10)\n",
    "\n",
    "print(\"Data Type:\", type(data))\n",
    "print(\"Data Length:\", len(data))\n",
    "if len(data) > 0:\n",
    "    print(\"Type of Data Contents:\", type(data[0]))\n",
    "    print(\"Data Minimum:\", min(data))\n",
    "    print(\"Data Maximum:\", max(data))\n"
   ]
  },
  {
   "cell_type": "markdown",
   "metadata": {},
   "source": [
    "*Exercise 2a:* \n",
    "Write a function that computes the mean of values in a list. Recall the equation for the mean of a random variable $\\bf{x}$ computed on a data set of $n$ values $\\{ x_i \\} = \\{x_1, x_2, ..., x_n\\}$  is ${\\bf\\bar{x}} = \\frac{1}{n} \\sum_i^n x_i$."
   ]
  },
  {
   "cell_type": "code",
   "execution_count": 24,
   "metadata": {},
   "outputs": [],
   "source": [
    "def mean(data):\n",
    " \n",
    "    m = sum(data) / len(data)\n",
    "    return m"
   ]
  },
  {
   "cell_type": "code",
   "execution_count": 25,
   "metadata": {},
   "outputs": [
    {
     "name": "stdout",
     "output_type": "stream",
     "text": [
      "Mean of Data: 3.0\n"
     ]
    }
   ],
   "source": [
    "# Test the function \n",
    "data = [1, 2, 3, 4, 5]\n",
    "print(\"Mean of Data:\", mean(data)) \n"
   ]
  },
  {
   "cell_type": "markdown",
   "metadata": {},
   "source": [
    "Write a function that computes the variance of values in a list. Recall the equation for the variance of a random variable $\\bf{x}$ computed on a data set of $n$ values $\\{ x_i \\} = \\{x_1, x_2, ..., x_n\\}$  is ${\\bf\\langle x \\rangle} = \\frac{1}{n} \\sum_i^n (x_i - {\\bf\\bar{x}})$."
   ]
  },
  {
   "cell_type": "code",
   "execution_count": 26,
   "metadata": {},
   "outputs": [],
   "source": [
    "def variance(data):\n",
    "    mean_value = sum(data) / len(data)\n",
    "    \n",
    "    variance_value = sum((x - mean_value) ** 2 for x in data) / len(data)\n",
    "    \n",
    "    return variance_value"
   ]
  },
  {
   "cell_type": "code",
   "execution_count": 27,
   "metadata": {},
   "outputs": [
    {
     "name": "stdout",
     "output_type": "stream",
     "text": [
      "Variance of Data: 2.0\n"
     ]
    }
   ],
   "source": [
    "# Test the function \n",
    "data = [1, 2, 3, 4, 5]\n",
    "print(\"Variance of Data:\", variance(data))\n"
   ]
  },
  {
   "cell_type": "markdown",
   "metadata": {},
   "source": [
    "## Histogramming"
   ]
  },
  {
   "cell_type": "markdown",
   "metadata": {},
   "source": [
    "*Exercise 3:* Write a function that bins the data so that you can create a histogram. An example of how to implement histogramming is the following logic:\n",
    "\n",
    "* User inputs a list of values `x` and optionally `n_bins` which defaults to 10.\n",
    "* If not supplied, find the minimum and maximum (`x_min`,`x_max`) of the values in x.\n",
    "* Determine the bin size (`bin_size`) by dividing the range of the function by the number of bins.\n",
    "* Create an empty list of zeros of size `n_bins`, call it `hist`.\n",
    "* Loop over the values in `x`\n",
    "    * Loop over the values in `hist` with index `i`:\n",
    "        * If x is between `x_min+i*bin_size` and `x_min+(i+1)*bin_size`, increment `hist[i].` \n",
    "        * For efficiency, try to use continue to goto the next bin and data point.\n",
    "* Return `hist` and the list corresponding of the bin edges (i.e. of `x_min+i*bin_size`).    "
   ]
  },
  {
   "cell_type": "code",
   "execution_count": 32,
   "metadata": {},
   "outputs": [],
   "source": [
    "import matplotlib.pyplot as plt\n",
    "import random\n",
    "\n",
    "def histogram(x, n_bins=10, x_min=None, x_max=None):\n",
    "   \n",
    "    if x_min is None:\n",
    "        x_min = min(x)\n",
    "    if x_max is None:\n",
    "        x_max = max(x)\n",
    "\n",
    "    bin_size = (x_max - x_min) / n_bins\n",
    "    \n",
    "    hist = [0] * n_bins\n",
    "\n",
    "    bin_edges = [x_min + i * bin_size for i in range(n_bins + 1)]\n",
    "\n",
    "    for value in x:\n",
    "        for i in range(n_bins):\n",
    "            if x_min + i * bin_size <= value < x_min + (i + 1) * bin_size:\n",
    "                hist[i] += 1\n",
    "                break \n",
    "\n",
    "    hist[-1] += sum(1 for value in x if value == x_max)\n",
    "    \n",
    "    return hist, bin_edges\n"
   ]
  },
  {
   "cell_type": "code",
   "execution_count": 33,
   "metadata": {},
   "outputs": [
    {
     "data": {
      "image/png": "[encoded data removed]",
      "text/plain": [
       "<Figure size 640x480 with 1 Axes>"
      ]
     },
     "metadata": {},
     "output_type": "display_data"
    }
   ],
   "source": [
    "def plot_histogram(hist, bin_edges):\n",
    "    plt.bar(bin_edges[:-1], hist, width=bin_edges[1] - bin_edges[0], edgecolor='black')\n",
    "    plt.xlabel('Value Range')\n",
    "    plt.ylabel('Frequency')\n",
    "    plt.title('Histogram')\n",
    "    plt.show()\n",
    "\n",
    "data = [random.uniform(0, 10) for _ in range(1000)]  # Generating 1000 random numbers between 0 and 10\n",
    "histogram_data, bin_edges = histogram(data, 10)\n",
    "\n",
    "plot_histogram(histogram_data, bin_edges)\n"
   ]
  },
  {
   "cell_type": "markdown",
   "metadata": {},
   "source": [
    "*Exercise 4:* Write a function that uses the histogram function in the previous exercise to create a text-based \"graph\". For example the output could look like the following:\n",
    "```\n",
    "[  0,  1] : ######\n",
    "[  1,  2] : #####\n",
    "[  2,  3] : ######\n",
    "[  3,  4] : ####\n",
    "[  4,  5] : ####\n",
    "[  5,  6] : ######\n",
    "[  6,  7] : #####\n",
    "[  7,  8] : ######\n",
    "[  8,  9] : ####\n",
    "[  9, 10] : #####\n",
    "```\n",
    "\n",
    "Where each line corresponds to a bin and the number of `#`'s are proportional to the value of the data in the bin. "
   ]
  },
  {
   "cell_type": "code",
   "execution_count": 34,
   "metadata": {},
   "outputs": [],
   "source": [
    "def draw_histogram(x, n_bins, x_min=None, x_max=None, character=\"#\", max_character_per_line=20):\n",
    "\n",
    "    hist, bin_edges = histogram(x, n_bins, x_min, x_max)\n",
    "    \n",
    "    max_count = max(hist)\n",
    "    for i in range(n_bins):\n",
    "        num_chars = int(hist[i] / max_count * max_character_per_line)\n",
    "        bin_range = f\"[{bin_edges[i]:.1f}, {bin_edges[i+1]:.1f}]\"\n",
    "        print(f\"{bin_range} : {character * num_chars}\")\n",
    "    \n",
    "    return hist, bin_edges\n"
   ]
  },
  {
   "cell_type": "code",
   "execution_count": 35,
   "metadata": {},
   "outputs": [
    {
     "name": "stdout",
     "output_type": "stream",
     "text": [
      "[0.0, 1.0] : ####################\n",
      "[1.0, 2.0] : ###############\n",
      "[2.0, 3.0] : ###############\n",
      "[3.0, 4.0] : ################\n",
      "[4.0, 5.0] : #################\n",
      "[5.0, 6.0] : #################\n",
      "[6.0, 7.0] : ##################\n",
      "[7.0, 8.0] : ################\n",
      "[8.0, 9.0] : ##############\n",
      "[9.0, 10.0] : ###############\n"
     ]
    },
    {
     "data": {
      "text/plain": [
       "([119, 94, 93, 97, 104, 103, 112, 98, 89, 91],\n",
       " [0.0025534575470675946,\n",
       "  1.0000718117722935,\n",
       "  1.9975901659975193,\n",
       "  2.995108520222745,\n",
       "  3.992626874447971,\n",
       "  4.990145228673197,\n",
       "  5.987663582898422,\n",
       "  6.985181937123649,\n",
       "  7.982700291348874,\n",
       "  8.9802186455741,\n",
       "  9.977736999799326])"
      ]
     },
     "execution_count": 35,
     "metadata": {},
     "output_type": "execute_result"
    }
   ],
   "source": [
    "# Test the function \n",
    "data = [random.uniform(0, 10) for _ in range(1000)] \n",
    "draw_histogram(data, 10)\n"
   ]
  },
  {
   "cell_type": "markdown",
   "metadata": {},
   "source": [
    "## Functional Programming\n",
    "\n",
    "*Exercise 5:* Write a function the applies a booling function (that returns true/false) to every element in data, and return a list of indices of elements where the result was true. Use this function to find the indices of entries greater than 0.5. "
   ]
  },
  {
   "cell_type": "code",
   "execution_count": 46,
   "metadata": {},
   "outputs": [],
   "source": [
    "def filter_indices(data, bool_func):\n",
    "    indices = []\n",
    "    for i, value in enumerate(data):\n",
    "        if bool_func(value): \n",
    "            indices.append(i)  \n",
    "    return indices\n",
    "\n",
    "def greater_than_half(x):\n",
    "    return x > 0.5\n"
   ]
  },
  {
   "cell_type": "code",
   "execution_count": 47,
   "metadata": {},
   "outputs": [
    {
     "name": "stdout",
     "output_type": "stream",
     "text": [
      "Indices of entries greater than 0.5: [1, 3, 5]\n"
     ]
    }
   ],
   "source": [
    "\n",
    "data = [0.2, 0.7, 0.4, 0.8, 0.3, 0.9]\n",
    "indices_of_greater_than_half = filter_indices(data, greater_than_half)\n",
    "\n",
    "print(\"Indices of entries greater than 0.5:\", indices_of_greater_than_half)\n"
   ]
  },
  {
   "cell_type": "markdown",
   "metadata": {},
   "source": [
    "*Exercise 6:* The `inrange(mymin,mymax)` function below returns a function that tests if it's input is between the specified values. Write corresponding functions that test:\n",
    "* Even\n",
    "* Odd\n",
    "* Greater than\n",
    "* Less than\n",
    "* Equal\n",
    "* Divisible by"
   ]
  },
  {
   "cell_type": "code",
   "execution_count": 57,
   "metadata": {},
   "outputs": [
    {
     "name": "stdout",
     "output_type": "stream",
     "text": [
      "True True False False False\n",
      "False False True True False\n"
     ]
    }
   ],
   "source": [
    "\n",
    "def in_range(mymin, mymax):\n",
    "    def testrange(x):\n",
    "        return x < mymax and x >= mymin \n",
    "    return testrange\n",
    "\n",
    "def where(data, condition_func):\n",
    "    result = []\n",
    "    for i, value in enumerate(data):\n",
    "        if condition_func(value): \n",
    "            result.append(i) \n",
    "    return result\n",
    "\n",
    "F1 = in_range(0, 10)\n",
    "F2 = in_range(10, 20)\n",
    "\n",
    "print(F1(0), F1(1), F1(10), F1(15), F1(20))  \n",
    "print(F2(0), F2(1), F2(10), F2(15), F2(20))  \n",
    "\n",
    "data = [0, 1, 5, 9, 10, 15, 19, 20, 25]\n",
    "\n"
   ]
  },
  {
   "cell_type": "code",
   "execution_count": 58,
   "metadata": {},
   "outputs": [
    {
     "name": "stdout",
     "output_type": "stream",
     "text": [
      "Number of Entries passing F1: 4\n",
      "Number of Entries passing F2: 3\n"
     ]
    }
   ],
   "source": [
    "\n",
    "print(\"Number of Entries passing F1:\", len(where(data, F1)))  \n",
    "print(\"Number of Entries passing F2:\", len(where(data, F2)))  \n"
   ]
  },
  {
   "cell_type": "markdown",
   "metadata": {},
   "source": [
    "*Exercise 7:* Repeat the previous exercise using `lambda` and the built-in python functions sum and map instead of your solution above. "
   ]
  },
  {
   "cell_type": "code",
   "execution_count": 50,
   "metadata": {},
   "outputs": [
    {
     "name": "stdout",
     "output_type": "stream",
     "text": [
      "Number of Entries passing F1: 4\n",
      "Number of Entries passing F2: 3\n"
     ]
    }
   ],
   "source": [
    "in_range = lambda mymin, mymax: lambda x: mymin <= x < mymax\n",
    "\n",
    "F1 = in_range(0, 10)\n",
    "F2 = in_range(10, 20)\n",
    "\n",
    "data = [0, 1, 5, 9, 10, 15, 19, 20, 25]\n",
    "\n",
    "num_passing_F1 = sum(map(F1, data))\n",
    "\n",
    "num_passing_F2 = sum(map(F2, data))\n",
    "\n",
    "print(\"Number of Entries passing F1:\", num_passing_F1)\n",
    "print(\"Number of Entries passing F2:\", num_passing_F2)\n"
   ]
  },
  {
   "cell_type": "markdown",
   "metadata": {},
   "source": [
    "## Monte Carlo\n",
    "\n",
    "*Exercise 7:* Write a \"generator\" function called `generate_function(func,x_min,x_max,N)`, that instead of generating a flat distribution, generates a distribution with functional form coded in `func`. Note that `func` will always be > 0.  \n",
    "\n",
    "Use the test function below and your histogramming functions above to demonstrate that your generator is working properly.\n",
    "\n",
    "Hint: A simple, but slow, solution is to a draw random number `test_x` within the specified range and another number `p` between the `min` and `max` of the function (which you will have to determine). If `p<=function(test_x)`, then place `test_x` on the output. If not, repeat the process, drawing two new numbers. Repeat until you have the specified number of generated numbers, `N`. For this problem, it's OK to determine the `min` and `max` by numerically sampling the function.  "
   ]
  },
  {
   "cell_type": "code",
   "execution_count": 53,
   "metadata": {},
   "outputs": [],
   "source": [
    "import random\n",
    "\n",
    "def generate_function(func, x_min, x_max, N=1000):\n",
    "    out = [] \n",
    " \n",
    "    num_samples = 1000\n",
    "    func_values = [func(random.uniform(x_min, x_max)) for _ in range(num_samples)]\n",
    "    f_min, f_max = min(func_values), max(func_values)\n",
    "\n",
    " \n",
    "    while len(out) < N:\n",
    "       \n",
    "        test_x = random.uniform(x_min, x_max)\n",
    "        p = random.uniform(f_min, f_max)\n",
    "        \n",
    "       \n",
    "        if p <= func(test_x):\n",
    "            out.append(test_x)\n",
    "    \n",
    "    return out\n"
   ]
  },
  {
   "cell_type": "code",
   "execution_count": 54,
   "metadata": {},
   "outputs": [
    {
     "name": "stdout",
     "output_type": "stream",
     "text": [
      "[-10.0, -9.0] : ################\n",
      "[-9.0, -8.0] : ##################\n",
      "[-8.0, -7.0] : ###########\n",
      "[-7.0, -6.0] : ##########\n",
      "[-6.0, -5.0] : ###########\n",
      "[-5.0, -4.0] : #####\n",
      "[-4.0, -3.0] : #####\n",
      "[-3.0, -2.0] : ###\n",
      "[-2.0, -1.0] : #\n",
      "[-1.0, 0.0] : \n",
      "[0.0, 1.0] : ###\n",
      "[1.0, 2.0] : #####\n",
      "[2.0, 3.0] : #######\n",
      "[3.0, 4.0] : #########\n",
      "[4.0, 5.0] : ###########\n",
      "[5.0, 6.0] : ###########\n",
      "[6.0, 7.0] : ##############\n",
      "[7.0, 8.0] : #################\n",
      "[8.0, 9.0] : #################\n",
      "[9.0, 10.0] : ####################\n"
     ]
    },
    {
     "data": {
      "text/plain": [
       "([81,\n",
       "  90,\n",
       "  57,\n",
       "  54,\n",
       "  56,\n",
       "  29,\n",
       "  25,\n",
       "  15,\n",
       "  7,\n",
       "  1,\n",
       "  16,\n",
       "  28,\n",
       "  38,\n",
       "  49,\n",
       "  57,\n",
       "  56,\n",
       "  71,\n",
       "  86,\n",
       "  86,\n",
       "  99],\n",
       " [-9.976046065541071,\n",
       "  -8.977648662265725,\n",
       "  -7.979251258990379,\n",
       "  -6.980853855715033,\n",
       "  -5.982456452439687,\n",
       "  -4.98405904916434,\n",
       "  -3.985661645888994,\n",
       "  -2.987264242613648,\n",
       "  -1.9888668393383018,\n",
       "  -0.9904694360629556,\n",
       "  0.00792796721239064,\n",
       "  1.0063253704877368,\n",
       "  2.004722773763083,\n",
       "  3.0031201770384293,\n",
       "  4.0015175803137755,\n",
       "  4.999914983589122,\n",
       "  5.998312386864468,\n",
       "  6.996709790139816,\n",
       "  7.99510719341516,\n",
       "  8.993504596690505,\n",
       "  9.991901999965853])"
      ]
     },
     "execution_count": 54,
     "metadata": {},
     "output_type": "execute_result"
    }
   ],
   "source": [
    "# Test function: \n",
    "def test_func(x, a=1, b=1):\n",
    "    return abs(a * x + b)\n",
    "\n",
    "data = generate_function(test_func, -10, 10, N=1000)\n",
    "\n",
    "draw_histogram(data, n_bins=20)\n"
   ]
  },
  {
   "cell_type": "markdown",
   "metadata": {},
   "source": [
    "*Exercise 8:* Use your function to generate 1000 numbers that are normal distributed, using the `gaussian` function below. Confirm the mean and variance of the data is close to the mean and variance you specify when building the Gaussian. Histogram the data. "
   ]
  },
  {
   "cell_type": "code",
   "execution_count": 55,
   "metadata": {},
   "outputs": [
    {
     "name": "stdout",
     "output_type": "stream",
     "text": [
      "g1: Mean = 0.021949516454376802, Variance = 0.9501172789558366\n",
      "g2: Mean = 10.199930170805743, Variance = 9.08805300434626\n"
     ]
    },
    {
     "data": {
      "image/png": "[encoded data removed]",
      "text/plain": [
       "<Figure size 640x480 with 1 Axes>"
      ]
     },
     "metadata": {},
     "output_type": "display_data"
    },
    {
     "data": {
      "image/png": "[encoded data removed]",
      "text/plain": [
       "<Figure size 640x480 with 1 Axes>"
      ]
     },
     "metadata": {},
     "output_type": "display_data"
    }
   ],
   "source": [
    "import math\n",
    "import random\n",
    "import numpy as np\n",
    "import matplotlib.pyplot as plt\n",
    "\n",
    "def gaussian(mean, sigma):\n",
    "    def f(x):\n",
    "        return math.exp(-((x - mean) ** 2) / (2 * sigma ** 2)) / (math.sqrt(2 * math.pi) * sigma)\n",
    "    return f\n",
    "\n",
    "def generate_function(func, x_min, x_max, N=1000):\n",
    "    out = []  \n",
    "\n",
    "    num_samples = 1000\n",
    "    func_values = [func(random.uniform(x_min, x_max)) for _ in range(num_samples)]\n",
    "    f_min, f_max = min(func_values), max(func_values)\n",
    "\n",
    "\n",
    "    while len(out) < N:\n",
    "       \n",
    "        test_x = random.uniform(x_min, x_max)\n",
    "        p = random.uniform(f_min, f_max)\n",
    "        \n",
    "        if p <= func(test_x):\n",
    "            out.append(test_x)\n",
    "    \n",
    "    return out\n",
    "\n",
    "g1 = gaussian(0, 1)\n",
    "g2 = gaussian(10, 3) \n",
    "\n",
    "data_g1 = generate_function(g1, -5, 5, N=1000)\n",
    "data_g2 = generate_function(g2, 0, 20, N=1000)\n",
    "\n",
    "mean_g1 = np.mean(data_g1)\n",
    "variance_g1 = np.var(data_g1)\n",
    "\n",
    "mean_g2 = np.mean(data_g2)\n",
    "variance_g2 = np.var(data_g2)\n",
    "\n",
    "print(f\"g1: Mean = {mean_g1}, Variance = {variance_g1}\")\n",
    "print(f\"g2: Mean = {mean_g2}, Variance = {variance_g2}\")\n",
    "\n",
    "def plot_histogram(data, title):\n",
    "    plt.hist(data, bins=30, density=True, alpha=0.6, color='g')\n",
    "    plt.title(title)\n",
    "    plt.xlabel('Value')\n",
    "    plt.ylabel('Density')\n",
    "    plt.show()\n",
    "\n",
    "plot_histogram(data_g1, \"Gaussian Distribution (mean=0, sigma=1)\")\n",
    "plot_histogram(data_g2, \"Gaussian Distribution (mean=10, sigma=3)\")\n"
   ]
  },
  {
   "cell_type": "markdown",
   "metadata": {},
   "source": [
    "*Exercise 9:* Combine your `generate_function`, `where`, and `in_range` functions above to create an integrate function. Use your integrate function to show that approximately 68% of Normal distribution is within one variance."
   ]
  },
  {
   "cell_type": "code",
   "execution_count": 56,
   "metadata": {},
   "outputs": [
    {
     "name": "stdout",
     "output_type": "stream",
     "text": [
      "Proportion of data within one sigma (mean ± sigma): 70.80%\n"
     ]
    }
   ],
   "source": [
    "import random\n",
    "import math\n",
    "import numpy as np\n",
    "\n",
    "def gaussian(mean, sigma):\n",
    "    def f(x):\n",
    "        return math.exp(-((x - mean) ** 2) / (2 * sigma ** 2)) / (math.sqrt(2 * math.pi) * sigma)\n",
    "    return f\n",
    "\n",
    "def generate_function(func, x_min, x_max, N=1000):\n",
    "    out = []\n",
    "    num_samples = 1000\n",
    "    func_values = [func(random.uniform(x_min, x_max)) for _ in range(num_samples)]\n",
    "    f_min, f_max = min(func_values), max(func_values)\n",
    "    \n",
    "    while len(out) < N:\n",
    "        test_x = random.uniform(x_min, x_max)\n",
    "        p = random.uniform(f_min, f_max)\n",
    "        if p <= func(test_x):\n",
    "            out.append(test_x)\n",
    "    \n",
    "    return out\n",
    "\n",
    "def in_range(mymin, mymax):\n",
    "    return lambda x: mymin <= x < mymax\n",
    "\n",
    "def where(data, condition_func):\n",
    "    return list(filter(condition_func, data))\n",
    "\n",
    "def integrate(func, x_min, x_max, n_points=1000):\n",
    "   \n",
    "    data = generate_function(func, x_min, x_max, N=n_points)\n",
    "    \n",
    "    integral = len(data) / n_points\n",
    "    \n",
    "    return integral\n",
    "\n",
    "def estimate_probability_within_one_sigma():\n",
    "  \n",
    "    mean, sigma = 0, 1\n",
    "    gaussian_func = gaussian(mean, sigma)\n",
    "\n",
    "    data = generate_function(gaussian_func, -5, 5, N=1000)\n",
    "    \n",
    "    one_sigma_range = in_range(mean - sigma, mean + sigma)\n",
    "\n",
    "    data_within_one_sigma = where(data, one_sigma_range)\n",
    "    \n",
    "    proportion_within_one_sigma = len(data_within_one_sigma) / len(data)\n",
    "    \n",
    "    print(f\"Proportion of data within one sigma (mean ± sigma): {proportion_within_one_sigma * 100:.2f}%\")\n",
    "\n",
    "estimate_probability_within_one_sigma()\n"
   ]
  },
  {
   "cell_type": "code",
   "execution_count": null,
   "metadata": {},
   "outputs": [],
   "source": []
  }
 ],
 "metadata": {
  "kernelspec": {
   "display_name": "Python 3 (ipykernel)",
   "language": "python",
   "name": "python3"
  },
  "language_info": {
   "codemirror_mode": {
    "name": "ipython",
    "version": 3
   },
   "file_extension": ".py",
   "mimetype": "text/x-python",
   "name": "python",
   "nbconvert_exporter": "python",
   "pygments_lexer": "ipython3",
   "version": "3.10.12"
  }
 },
 "nbformat": 4,
 "nbformat_minor": 4
}

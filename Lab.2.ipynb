{
 "cells": [
  {
   "cell_type": "markdown",
   "metadata": {},
   "source": [
    "## Lab 2- Tic Tac Toe\n",
    "\n",
    "In this lab your will build a n x n Tic Tac Toe game. As you do the exercises, make sure your solutions work for any size Tic Tac Toe game. "
   ]
  },
  {
   "cell_type": "markdown",
   "metadata": {},
   "source": [
    "*Exercise 1:* Write a function that creates an n by n matrix (of list of lists) which will represent the state of a Tie Tac Toe game. Let 0, 1, and 2 represent empty, \"X\", and \"O\", respectively.\n"
   ]
  },
  {
   "cell_type": "code",
   "execution_count": 2,
   "metadata": {},
   "outputs": [],
   "source": [
    "def create_tic_tac_toe_board(n):\n",
    "    \"\"\"Creates an n x n Tic Tac Toe board where 0 represents empty, 1 represents X, and 2 represents O.\"\"\"\n",
    "    return [[0 for _ in range(n)] for _ in range(n)]\n"
   ]
  },
  {
   "cell_type": "code",
   "execution_count": 3,
   "metadata": {},
   "outputs": [
    {
     "name": "stdout",
     "output_type": "stream",
     "text": [
      "[[0, 0, 0], [0, 0, 0], [0, 0, 0]]\n"
     ]
    }
   ],
   "source": [
    "# Create a 3x3 Tic Tac Toe board\n",
    "board = create_tic_tac_toe_board(3)\n",
    "print(board)\n"
   ]
  },
  {
   "cell_type": "markdown",
   "metadata": {},
   "source": [
    "*Exercise 2:* Write a function that takes 2 integers `n` and `m` as input and draws a `n` by `m` game board. For example the following is a 3x3 board:\n",
    "```\n",
    "   --- --- --- \n",
    "  |   |   |   | \n",
    "   --- --- ---  \n",
    "  |   |   |   | \n",
    "   --- --- ---  \n",
    "  |   |   |   | \n",
    "   --- --- --- \n",
    "   ```"
   ]
  },
  {
   "cell_type": "code",
   "execution_count": 7,
   "metadata": {},
   "outputs": [],
   "source": [
    "def draw_game_board(n, m):\n",
    "    \"\"\"Draws an n x m game board using ASCII characters.\"\"\"\n",
    "    for i in range(n):\n",
    "        print(\"   \" + \" ---\" * m)  # Draw the top border of each row\n",
    "        print(\"  |\" + \"   |\" * m)  # Draw the vertical lines\n",
    "    print(\"   \" + \" ---\" * m)  # Draw the bottom border\n"
   ]
  },
  {
   "cell_type": "code",
   "execution_count": 8,
   "metadata": {},
   "outputs": [
    {
     "name": "stdout",
     "output_type": "stream",
     "text": [
      "    --- --- ---\n",
      "  |   |   |   |\n",
      "    --- --- ---\n",
      "  |   |   |   |\n",
      "    --- --- ---\n",
      "  |   |   |   |\n",
      "    --- --- ---\n"
     ]
    }
   ],
   "source": [
    "# Test the function by drawing a 3x3 board\n",
    "draw_game_board(3, 3)\n"
   ]
  },
  {
   "cell_type": "markdown",
   "metadata": {},
   "source": [
    "*Exercise 3:* Modify exercise 2, so that it takes a matrix of the form from exercise 1 and draws a tic-tac-tie board with \"X\"s and \"O\"s.  "
   ]
  },
  {
   "cell_type": "code",
   "execution_count": 9,
   "metadata": {},
   "outputs": [],
   "source": [
    "def draw_tic_tac_toe_with_matrix(matrix):\n",
    "    \"\"\"Draws a tic-tac-toe board from a given matrix where 0 = empty, 1 = 'X', and 2 = 'O'.\"\"\"\n",
    "    n = len(matrix)  # Number of rows\n",
    "    m = len(matrix[0])  # Number of columns\n",
    "    \n",
    "    symbols = {0: \" \", 1: \"X\", 2: \"O\"}  # Mapping of values to symbols\n",
    "    \n",
    "    for i in range(n):\n",
    "        print(\"   \" + \" ---\" * m)  # Print the top border of each row\n",
    "        row = \"  |\"\n",
    "        for j in range(m):\n",
    "            row += f\" {symbols[matrix[i][j]]} |\"  # Print the symbol for each cell\n",
    "        print(row)\n",
    "    print(\"   \" + \" ---\" * m)  # Print the bottom border\n"
   ]
  },
  {
   "cell_type": "code",
   "execution_count": 10,
   "metadata": {},
   "outputs": [
    {
     "name": "stdout",
     "output_type": "stream",
     "text": [
      "    --- --- ---\n",
      "  |   | X | O |\n",
      "    --- --- ---\n",
      "  | O | X |   |\n",
      "    --- --- ---\n",
      "  | X | O | X |\n",
      "    --- --- ---\n"
     ]
    }
   ],
   "source": [
    "# Example matrix with some X's and O's\n",
    "test_matrix = [\n",
    "    [0, 1, 2],\n",
    "    [2, 1, 0],\n",
    "    [1, 2, 1]\n",
    "]\n",
    "\n",
    "# Draw the board based on the test matrix\n",
    "draw_tic_tac_toe_with_matrix(test_matrix)\n"
   ]
  },
  {
   "cell_type": "markdown",
   "metadata": {},
   "source": [
    "*Exercise 4:* Write a function that takes a `n` by `n` matrix representing a tic-tac-toe game, and returns -1, 0, 1, or 2 indicating the game is incomplete, the game is a draw, player 1 has won, or player 2 has one, respectively. Here are some example inputs you can use to test your code:"
   ]
  },
  {
   "cell_type": "code",
   "execution_count": 14,
   "metadata": {},
   "outputs": [],
   "source": [
    "def check_game_status(board):\n",
    "    \"\"\"Takes an n x n Tic Tac Toe board and returns the game status.\n",
    "    -1 = Game is incomplete, 0 = Draw, 1 = Player 1 wins, 2 = Player 2 wins.\"\"\"\n",
    "    n = len(board)\n",
    "    \n",
    "    # Check rows and columns\n",
    "    for i in range(n):\n",
    "        if all([cell == 1 for cell in board[i]]):  # Check rows for player 1\n",
    "            return 1\n",
    "        if all([cell == 2 for cell in board[i]]):  # Check rows for player 2\n",
    "            return 2\n",
    "        \n",
    "        if all([board[j][i] == 1 for j in range(n)]):  # Check columns for player 1\n",
    "            return 1\n",
    "        if all([board[j][i] == 2 for j in range(n)]):  # Check columns for player 2\n",
    "            return 2\n",
    "    \n",
    "    # Check diagonals\n",
    "    if all([board[i][i] == 1 for i in range(n)]):  # Main diagonal for player 1\n",
    "        return 1\n",
    "    if all([board[i][i] == 2 for i in range(n)]):  # Main diagonal for player 2\n",
    "        return 2\n",
    "    \n",
    "    if all([board[i][n - 1 - i] == 1 for i in range(n)]):  # Anti-diagonal for player 1\n",
    "        return 1\n",
    "    if all([board[i][n - 1 - i] == 2 for i in range(n)]):  # Anti-diagonal for player 2\n",
    "        return 2\n",
    "    \n",
    "    # Check if the game is incomplete\n",
    "    if any(0 in row for row in board):\n",
    "        return -1\n",
    "    \n",
    "    # If no winner and no empty cells, it's a draw\n",
    "    return 0\n"
   ]
  },
  {
   "cell_type": "code",
   "execution_count": 15,
   "metadata": {},
   "outputs": [
    {
     "name": "stdout",
     "output_type": "stream",
     "text": [
      "Test 1 (Winner is 2): 2\n",
      "Test 2 (Winner is 1): 1\n",
      "Test 3 (Winner is 1): 1\n",
      "Test 4 (No winner, draw): -1\n",
      "Test 5 (Game incomplete): -1\n"
     ]
    }
   ],
   "source": [
    "# Define the test matrices\n",
    "winner_is_2 = [\n",
    "    [2, 2, 0],\n",
    "    [2, 1, 0],\n",
    "    [2, 1, 1]\n",
    "]\n",
    "\n",
    "winner_is_1 = [\n",
    "    [1, 2, 0],\n",
    "    [2, 1, 0],\n",
    "    [2, 1, 1]\n",
    "]\n",
    "\n",
    "winner_is_also_1 = [\n",
    "    [0, 1, 0],\n",
    "    [2, 1, 0],\n",
    "    [2, 1, 1]\n",
    "]\n",
    "\n",
    "no_winner = [\n",
    "    [1, 2, 0],\n",
    "    [2, 1, 0],\n",
    "    [2, 1, 2]\n",
    "]\n",
    "\n",
    "also_no_winner = [\n",
    "    [1, 2, 0],\n",
    "    [2, 1, 0],\n",
    "    [2, 1, 0]\n",
    "]\n",
    "\n",
    "# Test the function with these matrices\n",
    "print(\"Test 1 (Winner is 2):\", check_game_status(winner_is_2))  # Should return 2\n",
    "print(\"Test 2 (Winner is 1):\", check_game_status(winner_is_1))  # Should return 1\n",
    "print(\"Test 3 (Winner is 1):\", check_game_status(winner_is_also_1))  # Should return 1\n",
    "print(\"Test 4 (No winner, draw):\", check_game_status(no_winner))  # Should return 0\n",
    "print(\"Test 5 (Game incomplete):\", check_game_status(also_no_winner))  # Should return -1\n"
   ]
  },
  {
   "cell_type": "code",
   "execution_count": null,
   "metadata": {
    "collapsed": true,
    "jupyter": {
     "outputs_hidden": true
    }
   },
   "outputs": [],
   "source": [
    "winner_is_2 = [[2, 2, 0],\n",
    "\t[2, 1, 0],\n",
    "\t[2, 1, 1]]\n",
    "\n",
    "winner_is_1 = [[1, 2, 0],\n",
    "\t[2, 1, 0],\n",
    "\t[2, 1, 1]]\n",
    "\n",
    "winner_is_also_1 = [[0, 1, 0],\n",
    "\t[2, 1, 0],\n",
    "\t[2, 1, 1]]\n",
    "\n",
    "no_winner = [[1, 2, 0],\n",
    "\t[2, 1, 0],\n",
    "\t[2, 1, 2]]\n",
    "\n",
    "also_no_winner = [[1, 2, 0],\n",
    "\t[2, 1, 0],\n",
    "\t[2, 1, 0]]"
   ]
  },
  {
   "cell_type": "markdown",
   "metadata": {},
   "source": [
    "*Exercise 5:* Write a function that takes a game board, player number, and `(x,y)` coordinates and places \"X\" or \"O\" in the correct location of the game board. Make sure that you only allow filling previously empty locations. Return `True` or `False` to indicate successful placement of \"X\" or \"O\"."
   ]
  },
  {
   "cell_type": "code",
   "execution_count": 16,
   "metadata": {},
   "outputs": [],
   "source": [
    "def place_marker(board, player, x, y):\n",
    "    \"\"\"Places 'X' (1) or 'O' (2) for the given player at the (x, y) coordinates on the board.\n",
    "    Returns True if the placement was successful, False if the cell was already occupied.\"\"\"\n",
    "    \n",
    "    # Check if the selected cell is empty (represented by 0)\n",
    "    if board[x][y] == 0:\n",
    "        board[x][y] = player  # Place the player's marker\n",
    "        return True  # Placement was successful\n",
    "    else:\n",
    "        return False  # The cell is already occupied\n"
   ]
  },
  {
   "cell_type": "code",
   "execution_count": 17,
   "metadata": {},
   "outputs": [
    {
     "name": "stdout",
     "output_type": "stream",
     "text": [
      "True\n",
      "[[1, 0, 0], [0, 0, 0], [0, 0, 0]]\n",
      "True\n",
      "[[1, 0, 0], [0, 2, 0], [0, 0, 0]]\n",
      "False\n",
      "[[1, 0, 0], [0, 2, 0], [0, 0, 0]]\n",
      "True\n",
      "[[1, 0, 0], [0, 2, 0], [0, 0, 2]]\n"
     ]
    }
   ],
   "source": [
    "# Create an empty board\n",
    "board = [\n",
    "    [0, 0, 0],\n",
    "    [0, 0, 0],\n",
    "    [0, 0, 0]\n",
    "]\n",
    "\n",
    "# Test placing 'X' (1) at (0, 0)\n",
    "print(place_marker(board, 1, 0, 0))  # Should return True\n",
    "print(board)  # Should show '1' at position (0, 0)\n",
    "\n",
    "# Test placing 'O' (2) at (1, 1)\n",
    "print(place_marker(board, 2, 1, 1))  # Should return True\n",
    "print(board)  # Should show '2' at position (1, 1)\n",
    "\n",
    "# Test placing 'X' (1) at (0, 0) again (already occupied)\n",
    "print(place_marker(board, 1, 0, 0))  # Should return False (already occupied)\n",
    "print(board)  # Should remain unchanged\n",
    "\n",
    "# Test placing 'O' (2) at (2, 2)\n",
    "print(place_marker(board, 2, 2, 2))  # Should return True\n",
    "print(board)  # Should show '2' at position (2, 2)\n"
   ]
  },
  {
   "cell_type": "markdown",
   "metadata": {},
   "source": [
    "*Exercise 6:* Modify Exercise 4 to show column and row labels so that players can specify location using \"A2\" or \"C1\"."
   ]
  },
  {
   "cell_type": "code",
   "execution_count": 18,
   "metadata": {},
   "outputs": [],
   "source": [
    "def place_marker_with_labels(board, player, location):\n",
    "    \"\"\"Places 'X' (1) or 'O' (2) based on the player at the location like 'A2' or 'C1'.\"\"\"\n",
    "    \n",
    "    # Extract the column (letter) and row (number) from the location\n",
    "    column_letter = location[0].upper()  # Make sure it's uppercase for uniformity\n",
    "    row_number = int(location[1]) - 1    # Convert to 0-based index for row\n",
    "    \n",
    "    # Convert the column letter (A, B, C, ...) to a column index (0, 1, 2, ...)\n",
    "    column_index = ord(column_letter) - ord('A')\n",
    "    \n",
    "    # Check if the selected cell is empty (represented by 0)\n",
    "    if board[row_number][column_index] == 0:\n",
    "        board[row_number][column_index] = player  # Place the player's marker\n",
    "        return True  # Placement was successful\n",
    "    else:\n",
    "        return False  # The cell is already occupied\n"
   ]
  },
  {
   "cell_type": "code",
   "execution_count": 19,
   "metadata": {},
   "outputs": [
    {
     "name": "stdout",
     "output_type": "stream",
     "text": [
      "True\n",
      "[[1, 0, 0], [0, 0, 0], [0, 0, 0]]\n",
      "True\n",
      "[[1, 0, 0], [0, 2, 0], [0, 0, 0]]\n",
      "False\n",
      "[[1, 0, 0], [0, 2, 0], [0, 0, 0]]\n",
      "True\n",
      "[[1, 0, 0], [0, 2, 0], [0, 0, 2]]\n"
     ]
    }
   ],
   "source": [
    "# Create an empty board\n",
    "board = [\n",
    "    [0, 0, 0],\n",
    "    [0, 0, 0],\n",
    "    [0, 0, 0]\n",
    "]\n",
    "\n",
    "# Test placing 'X' (1) at A1\n",
    "print(place_marker_with_labels(board, 1, \"A1\"))  # Should return True\n",
    "print(board)  # Should show '1' at position (0, 0)\n",
    "\n",
    "# Test placing 'O' (2) at B2\n",
    "print(place_marker_with_labels(board, 2, \"B2\"))  # Should return True\n",
    "print(board)  # Should show '2' at position (1, 1)\n",
    "\n",
    "# Test placing 'X' (1) at A1 again (already occupied)\n",
    "print(place_marker_with_labels(board, 1, \"A1\"))  # Should return False (already occupied)\n",
    "print(board)  # Should remain unchanged\n",
    "\n",
    "# Test placing 'O' (2) at C3\n",
    "print(place_marker_with_labels(board, 2, \"C3\"))  # Should return True\n",
    "print(board)  # Should show '2' at position (2, 2)\n"
   ]
  },
  {
   "cell_type": "markdown",
   "metadata": {},
   "source": [
    "*Exercise 7:* Write a function that takes a board, player number, and location specified as in exercise 6 and then calls exercise 5 to correctly modify the board.  "
   ]
  },
  {
   "cell_type": "code",
   "execution_count": 20,
   "metadata": {},
   "outputs": [],
   "source": [
    "def modify_board(board, player, location):\n",
    "    \"\"\"Takes a board, player number, and location, and modifies the board if the location is valid.\n",
    "    Uses the location specified in Exercise 6 ('A1', 'B2', etc.) and calls the function from Exercise 5.\"\"\"\n",
    "    \n",
    "    # Extract the column letter and row number from location\n",
    "    column_letter = location[0].upper()  # Convert column to uppercase\n",
    "    row_number = int(location[1]) - 1    # Convert to 0-based row index\n",
    "    \n",
    "    # Convert the column letter to a column index (A -> 0, B -> 1, etc.)\n",
    "    column_index = ord(column_letter) - ord('A')\n",
    "    \n",
    "    # Call the function from Exercise 5 to place the marker\n",
    "    return place_marker(board, player, row_number, column_index)\n"
   ]
  },
  {
   "cell_type": "code",
   "execution_count": 21,
   "metadata": {},
   "outputs": [
    {
     "name": "stdout",
     "output_type": "stream",
     "text": [
      "True\n",
      "[[1, 0, 0], [0, 0, 0], [0, 0, 0]]\n",
      "True\n",
      "[[1, 0, 0], [0, 2, 0], [0, 0, 0]]\n",
      "False\n",
      "[[1, 0, 0], [0, 2, 0], [0, 0, 0]]\n"
     ]
    }
   ],
   "source": [
    "# Define an empty board\n",
    "board = [\n",
    "    [0, 0, 0],\n",
    "    [0, 0, 0],\n",
    "    [0, 0, 0]\n",
    "]\n",
    "\n",
    "# Test case 1: Place X (player 1) at A1\n",
    "print(modify_board(board, 1, \"A1\"))  # Should return True (successful placement)\n",
    "print(board)  # Should have '1' at A1 (0, 0)\n",
    "\n",
    "# Test case 2: Place O (player 2) at B2\n",
    "print(modify_board(board, 2, \"B2\"))  # Should return True (successful placement)\n",
    "print(board)  # Should have '2' at B2 (1, 1)\n",
    "\n",
    "# Test case 3: Try placing X (player 1) at A1 again (already occupied)\n",
    "print(modify_board(board, 1, \"A1\"))  # Should return False (cell already occupied)\n",
    "print(board)  # Board should remain the same\n"
   ]
  },
  {
   "cell_type": "markdown",
   "metadata": {},
   "source": [
    "*Exercise 8:* Write a function is called with a board and player number, takes input from the player using python's `input`, and modifies the board using your function from exercise 7. Note that you should keep asking for input until you have gotten a valid input that results in a valid move."
   ]
  },
  {
   "cell_type": "code",
   "execution_count": 22,
   "metadata": {},
   "outputs": [],
   "source": [
    "def get_player_move(board, player):\n",
    "    \"\"\"Prompts the player for input and modifies the board using the function from Exercise 7.\n",
    "    Continues to ask for input until a valid move is made.\"\"\"\n",
    "    \n",
    "    while True:\n",
    "        try:\n",
    "            # Ask the player for a move (e.g., 'A1', 'B2')\n",
    "            location = input(f\"Player {player}, enter your move (e.g., 'A1', 'B2'): \").upper()\n",
    "            \n",
    "            # Check if the input length is valid (must be 2 characters, e.g., A1, B2)\n",
    "            if len(location) != 2 or not location[0].isalpha() or not location[1].isdigit():\n",
    "                print(\"Invalid input. Please enter a location like 'A1' or 'C3'.\")\n",
    "                continue\n",
    "            \n",
    "            # Call modify_board (from Exercise 7) to attempt placing the marker\n",
    "            if modify_board(board, player, location):\n",
    "                print(f\"Player {player} successfully placed a marker at {location}.\")\n",
    "                break  # Exit the loop once a valid move is made\n",
    "            else:\n",
    "                print(\"That spot is already taken. Try again.\")\n",
    "        \n",
    "        except Exception as e:\n",
    "            print(f\"An error occurred: {e}. Please try again.\")\n"
   ]
  },
  {
   "cell_type": "code",
   "execution_count": 23,
   "metadata": {},
   "outputs": [
    {
     "name": "stdin",
     "output_type": "stream",
     "text": [
      "Player 1, enter your move (e.g., 'A1', 'B2'):  A1\n"
     ]
    },
    {
     "name": "stdout",
     "output_type": "stream",
     "text": [
      "Player 1 successfully placed a marker at A1.\n"
     ]
    },
    {
     "name": "stdin",
     "output_type": "stream",
     "text": [
      "Player 2, enter your move (e.g., 'A1', 'B2'):  B2\n"
     ]
    },
    {
     "name": "stdout",
     "output_type": "stream",
     "text": [
      "Player 2 successfully placed a marker at B2.\n",
      "[[1, 0, 0], [0, 2, 0], [0, 0, 0]]\n"
     ]
    }
   ],
   "source": [
    "# Create an empty board\n",
    "board = [\n",
    "    [0, 0, 0],\n",
    "    [0, 0, 0],\n",
    "    [0, 0, 0]\n",
    "]\n",
    "\n",
    "# Test for Player 1\n",
    "get_player_move(board, 1)\n",
    "\n",
    "# Test for Player 2\n",
    "get_player_move(board, 2)\n",
    "\n",
    "# Print the board to check the result\n",
    "print(board)\n"
   ]
  },
  {
   "cell_type": "markdown",
   "metadata": {},
   "source": [
    "*Exercise 9:* Use all of the previous exercises to implement a full tic-tac-toe game, where an appropriate board is drawn, 2 players are repeatedly asked for a location coordinates of where they wish to place a mark, and the game status is checked until a player wins or a draw occurs."
   ]
  },
  {
   "cell_type": "code",
   "execution_count": 24,
   "metadata": {},
   "outputs": [],
   "source": [
    "def tic_tac_toe_game():\n",
    "    \"\"\"Implements a full Tic Tac Toe game using previous exercises.\"\"\"\n",
    "    \n",
    "    # Create an empty 3x3 board\n",
    "    board = [[0 for _ in range(3)] for _ in range(3)]\n",
    "    \n",
    "    # Print the board\n",
    "    print(\"Welcome to Tic Tac Toe! Here's the starting board:\")\n",
    "    draw_tic_tac_toe_with_matrix(board)\n",
    "    \n",
    "    # Start the game loop\n",
    "    player = 1  # Player 1 starts\n",
    "    while True:\n",
    "        # Get the player's move (Exercise 8)\n",
    "        get_player_move(board, player)\n",
    "        \n",
    "        # Display the updated board after the move\n",
    "        draw_tic_tac_toe_with_matrix(board)\n",
    "        \n",
    "        # Check the game status (Exercise 4)\n",
    "        status = check_game_status(board)\n",
    "        if status == 1:\n",
    "            print(\"Player 1 (X) wins!\")\n",
    "            break\n",
    "        elif status == 2:\n",
    "            print(\"Player 2 (O) wins!\")\n",
    "            break\n",
    "        elif status == 0:\n",
    "            print(\"It's a draw!\")\n",
    "            break\n",
    "        \n",
    "        # Switch players\n",
    "        player = 2 if player == 1 else 1\n",
    "\n",
    "# Helper function to draw the Tic Tac Toe board (as used in previous exercises)\n",
    "def draw_tic_tac_toe_with_matrix(matrix):\n",
    "    \"\"\"Draws the tic-tac-toe board from a given matrix.\"\"\"\n",
    "    n = len(matrix)\n",
    "    symbols = {0: \" \", 1: \"X\", 2: \"O\"}\n",
    "    for i in range(n):\n",
    "        print(\"   \" + \" ---\" * n)\n",
    "        row = \"  |\"\n",
    "        for j in range(n):\n",
    "            row += f\" {symbols[matrix[i][j]]} |\"\n",
    "        print(row)\n",
    "    print(\"   \" + \" ---\" * n)\n"
   ]
  },
  {
   "cell_type": "code",
   "execution_count": 25,
   "metadata": {},
   "outputs": [
    {
     "name": "stdout",
     "output_type": "stream",
     "text": [
      "Welcome to Tic Tac Toe! Here's the starting board:\n",
      "    --- --- ---\n",
      "  |   |   |   |\n",
      "    --- --- ---\n",
      "  |   |   |   |\n",
      "    --- --- ---\n",
      "  |   |   |   |\n",
      "    --- --- ---\n"
     ]
    },
    {
     "name": "stdin",
     "output_type": "stream",
     "text": [
      "Player 1, enter your move (e.g., 'A1', 'B2'):  A1\n"
     ]
    },
    {
     "name": "stdout",
     "output_type": "stream",
     "text": [
      "Player 1 successfully placed a marker at A1.\n",
      "    --- --- ---\n",
      "  | X |   |   |\n",
      "    --- --- ---\n",
      "  |   |   |   |\n",
      "    --- --- ---\n",
      "  |   |   |   |\n",
      "    --- --- ---\n"
     ]
    },
    {
     "name": "stdin",
     "output_type": "stream",
     "text": [
      "Player 2, enter your move (e.g., 'A1', 'B2'):  B2\n"
     ]
    },
    {
     "name": "stdout",
     "output_type": "stream",
     "text": [
      "Player 2 successfully placed a marker at B2.\n",
      "    --- --- ---\n",
      "  | X |   |   |\n",
      "    --- --- ---\n",
      "  |   | O |   |\n",
      "    --- --- ---\n",
      "  |   |   |   |\n",
      "    --- --- ---\n"
     ]
    },
    {
     "name": "stdin",
     "output_type": "stream",
     "text": [
      "Player 1, enter your move (e.g., 'A1', 'B2'):  B1\n"
     ]
    },
    {
     "name": "stdout",
     "output_type": "stream",
     "text": [
      "Player 1 successfully placed a marker at B1.\n",
      "    --- --- ---\n",
      "  | X | X |   |\n",
      "    --- --- ---\n",
      "  |   | O |   |\n",
      "    --- --- ---\n",
      "  |   |   |   |\n",
      "    --- --- ---\n"
     ]
    },
    {
     "name": "stdin",
     "output_type": "stream",
     "text": [
      "Player 2, enter your move (e.g., 'A1', 'B2'):  A3\n"
     ]
    },
    {
     "name": "stdout",
     "output_type": "stream",
     "text": [
      "Player 2 successfully placed a marker at A3.\n",
      "    --- --- ---\n",
      "  | X | X |   |\n",
      "    --- --- ---\n",
      "  |   | O |   |\n",
      "    --- --- ---\n",
      "  | O |   |   |\n",
      "    --- --- ---\n"
     ]
    },
    {
     "name": "stdin",
     "output_type": "stream",
     "text": [
      "Player 1, enter your move (e.g., 'A1', 'B2'):  C1\n"
     ]
    },
    {
     "name": "stdout",
     "output_type": "stream",
     "text": [
      "Player 1 successfully placed a marker at C1.\n",
      "    --- --- ---\n",
      "  | X | X | X |\n",
      "    --- --- ---\n",
      "  |   | O |   |\n",
      "    --- --- ---\n",
      "  | O |   |   |\n",
      "    --- --- ---\n",
      "Player 1 (X) wins!\n"
     ]
    }
   ],
   "source": [
    "# Call the game function to start the game\n",
    "tic_tac_toe_game()\n"
   ]
  },
  {
   "cell_type": "markdown",
   "metadata": {},
   "source": [
    "*Exercise 10:* Test that your game works for 5x5 Tic Tac Toe.  "
   ]
  },
  {
   "cell_type": "code",
   "execution_count": 26,
   "metadata": {},
   "outputs": [
    {
     "name": "stdout",
     "output_type": "stream",
     "text": [
      "Welcome to 5x5 Tic Tac Toe! Here's the starting board:\n",
      "    --- --- --- --- ---\n",
      "  |   |   |   |   |   |\n",
      "    --- --- --- --- ---\n",
      "  |   |   |   |   |   |\n",
      "    --- --- --- --- ---\n",
      "  |   |   |   |   |   |\n",
      "    --- --- --- --- ---\n",
      "  |   |   |   |   |   |\n",
      "    --- --- --- --- ---\n",
      "  |   |   |   |   |   |\n",
      "    --- --- --- --- ---\n"
     ]
    },
    {
     "name": "stdin",
     "output_type": "stream",
     "text": [
      "Player 1, enter your move (e.g., 'A1', 'B2'):  A1\n"
     ]
    },
    {
     "name": "stdout",
     "output_type": "stream",
     "text": [
      "Player 1 successfully placed a marker at A1.\n",
      "    --- --- --- --- ---\n",
      "  | X |   |   |   |   |\n",
      "    --- --- --- --- ---\n",
      "  |   |   |   |   |   |\n",
      "    --- --- --- --- ---\n",
      "  |   |   |   |   |   |\n",
      "    --- --- --- --- ---\n",
      "  |   |   |   |   |   |\n",
      "    --- --- --- --- ---\n",
      "  |   |   |   |   |   |\n",
      "    --- --- --- --- ---\n"
     ]
    },
    {
     "name": "stdin",
     "output_type": "stream",
     "text": [
      "Player 2, enter your move (e.g., 'A1', 'B2'):  B1\n"
     ]
    },
    {
     "name": "stdout",
     "output_type": "stream",
     "text": [
      "Player 2 successfully placed a marker at B1.\n",
      "    --- --- --- --- ---\n",
      "  | X | O |   |   |   |\n",
      "    --- --- --- --- ---\n",
      "  |   |   |   |   |   |\n",
      "    --- --- --- --- ---\n",
      "  |   |   |   |   |   |\n",
      "    --- --- --- --- ---\n",
      "  |   |   |   |   |   |\n",
      "    --- --- --- --- ---\n",
      "  |   |   |   |   |   |\n",
      "    --- --- --- --- ---\n"
     ]
    },
    {
     "name": "stdin",
     "output_type": "stream",
     "text": [
      "Player 1, enter your move (e.g., 'A1', 'B2'):  A2\n"
     ]
    },
    {
     "name": "stdout",
     "output_type": "stream",
     "text": [
      "Player 1 successfully placed a marker at A2.\n",
      "    --- --- --- --- ---\n",
      "  | X | O |   |   |   |\n",
      "    --- --- --- --- ---\n",
      "  | X |   |   |   |   |\n",
      "    --- --- --- --- ---\n",
      "  |   |   |   |   |   |\n",
      "    --- --- --- --- ---\n",
      "  |   |   |   |   |   |\n",
      "    --- --- --- --- ---\n",
      "  |   |   |   |   |   |\n",
      "    --- --- --- --- ---\n"
     ]
    },
    {
     "name": "stdin",
     "output_type": "stream",
     "text": [
      "Player 2, enter your move (e.g., 'A1', 'B2'):  B2\n"
     ]
    },
    {
     "name": "stdout",
     "output_type": "stream",
     "text": [
      "Player 2 successfully placed a marker at B2.\n",
      "    --- --- --- --- ---\n",
      "  | X | O |   |   |   |\n",
      "    --- --- --- --- ---\n",
      "  | X | O |   |   |   |\n",
      "    --- --- --- --- ---\n",
      "  |   |   |   |   |   |\n",
      "    --- --- --- --- ---\n",
      "  |   |   |   |   |   |\n",
      "    --- --- --- --- ---\n",
      "  |   |   |   |   |   |\n",
      "    --- --- --- --- ---\n"
     ]
    },
    {
     "name": "stdin",
     "output_type": "stream",
     "text": [
      "Player 1, enter your move (e.g., 'A1', 'B2'):  A3\n"
     ]
    },
    {
     "name": "stdout",
     "output_type": "stream",
     "text": [
      "Player 1 successfully placed a marker at A3.\n",
      "    --- --- --- --- ---\n",
      "  | X | O |   |   |   |\n",
      "    --- --- --- --- ---\n",
      "  | X | O |   |   |   |\n",
      "    --- --- --- --- ---\n",
      "  | X |   |   |   |   |\n",
      "    --- --- --- --- ---\n",
      "  |   |   |   |   |   |\n",
      "    --- --- --- --- ---\n",
      "  |   |   |   |   |   |\n",
      "    --- --- --- --- ---\n"
     ]
    },
    {
     "name": "stdin",
     "output_type": "stream",
     "text": [
      "Player 2, enter your move (e.g., 'A1', 'B2'):  B3\n"
     ]
    },
    {
     "name": "stdout",
     "output_type": "stream",
     "text": [
      "Player 2 successfully placed a marker at B3.\n",
      "    --- --- --- --- ---\n",
      "  | X | O |   |   |   |\n",
      "    --- --- --- --- ---\n",
      "  | X | O |   |   |   |\n",
      "    --- --- --- --- ---\n",
      "  | X | O |   |   |   |\n",
      "    --- --- --- --- ---\n",
      "  |   |   |   |   |   |\n",
      "    --- --- --- --- ---\n",
      "  |   |   |   |   |   |\n",
      "    --- --- --- --- ---\n"
     ]
    },
    {
     "name": "stdin",
     "output_type": "stream",
     "text": [
      "Player 1, enter your move (e.g., 'A1', 'B2'):  A4\n"
     ]
    },
    {
     "name": "stdout",
     "output_type": "stream",
     "text": [
      "Player 1 successfully placed a marker at A4.\n",
      "    --- --- --- --- ---\n",
      "  | X | O |   |   |   |\n",
      "    --- --- --- --- ---\n",
      "  | X | O |   |   |   |\n",
      "    --- --- --- --- ---\n",
      "  | X | O |   |   |   |\n",
      "    --- --- --- --- ---\n",
      "  | X |   |   |   |   |\n",
      "    --- --- --- --- ---\n",
      "  |   |   |   |   |   |\n",
      "    --- --- --- --- ---\n"
     ]
    },
    {
     "name": "stdin",
     "output_type": "stream",
     "text": [
      "Player 2, enter your move (e.g., 'A1', 'B2'):  b4\n"
     ]
    },
    {
     "name": "stdout",
     "output_type": "stream",
     "text": [
      "Player 2 successfully placed a marker at B4.\n",
      "    --- --- --- --- ---\n",
      "  | X | O |   |   |   |\n",
      "    --- --- --- --- ---\n",
      "  | X | O |   |   |   |\n",
      "    --- --- --- --- ---\n",
      "  | X | O |   |   |   |\n",
      "    --- --- --- --- ---\n",
      "  | X | O |   |   |   |\n",
      "    --- --- --- --- ---\n",
      "  |   |   |   |   |   |\n",
      "    --- --- --- --- ---\n"
     ]
    },
    {
     "name": "stdin",
     "output_type": "stream",
     "text": [
      "Player 1, enter your move (e.g., 'A1', 'B2'):  a5\n"
     ]
    },
    {
     "name": "stdout",
     "output_type": "stream",
     "text": [
      "Player 1 successfully placed a marker at A5.\n",
      "    --- --- --- --- ---\n",
      "  | X | O |   |   |   |\n",
      "    --- --- --- --- ---\n",
      "  | X | O |   |   |   |\n",
      "    --- --- --- --- ---\n",
      "  | X | O |   |   |   |\n",
      "    --- --- --- --- ---\n",
      "  | X | O |   |   |   |\n",
      "    --- --- --- --- ---\n",
      "  | X |   |   |   |   |\n",
      "    --- --- --- --- ---\n",
      "Player 1 (X) wins!\n"
     ]
    }
   ],
   "source": [
    "def tic_tac_toe_game_5x5():\n",
    "    \"\"\"Implements a full 5x5 Tic Tac Toe game using previous exercises.\"\"\"\n",
    "    \n",
    "    # Create an empty 5x5 board\n",
    "    board = [[0 for _ in range(5)] for _ in range(5)]\n",
    "    \n",
    "    # Print the board\n",
    "    print(\"Welcome to 5x5 Tic Tac Toe! Here's the starting board:\")\n",
    "    draw_tic_tac_toe_with_matrix(board)\n",
    "    \n",
    "    # Start the game loop\n",
    "    player = 1  # Player 1 starts\n",
    "    while True:\n",
    "        # Get the player's move (Exercise 8)\n",
    "        get_player_move(board, player)\n",
    "        \n",
    "        # Display the updated board after the move\n",
    "        draw_tic_tac_toe_with_matrix(board)\n",
    "        \n",
    "        # Check the game status (Exercise 4)\n",
    "        status = check_game_status(board)\n",
    "        if status == 1:\n",
    "            print(\"Player 1 (X) wins!\")\n",
    "            break\n",
    "        elif status == 2:\n",
    "            print(\"Player 2 (O) wins!\")\n",
    "            break\n",
    "        elif status == 0:\n",
    "            print(\"It's a draw!\")\n",
    "            break\n",
    "        \n",
    "        # Switch players\n",
    "        player = 2 if player == 1 else 1\n",
    "\n",
    "# Helper function to draw the Tic Tac Toe board (as used in previous exercises)\n",
    "def draw_tic_tac_toe_with_matrix(matrix):\n",
    "    \"\"\"Draws the tic-tac-toe board from a given matrix.\"\"\"\n",
    "    n = len(matrix)\n",
    "    symbols = {0: \" \", 1: \"X\", 2: \"O\"}\n",
    "    for i in range(n):\n",
    "        print(\"   \" + \" ---\" * n)\n",
    "        row = \"  |\"\n",
    "        for j in range(n):\n",
    "            row += f\" {symbols[matrix[i][j]]} |\"\n",
    "        print(row)\n",
    "    print(\"   \" + \" ---\" * n)\n",
    "# Call the 5x5 Tic Tac Toe game function\n",
    "tic_tac_toe_game_5x5()\n"
   ]
  },
  {
   "cell_type": "markdown",
   "metadata": {},
   "source": [
    "*Exercise 11:* (Advanced / Challenge) Develop a version of the game where one player is the computer. Note that you don't need to do an extensive seach for the best move. You can have the computer simply protect against loosing and otherwise try to win with straight or diagonal patterns."
   ]
  },
  {
   "cell_type": "code",
   "execution_count": 27,
   "metadata": {},
   "outputs": [],
   "source": [
    "import random\n",
    "\n",
    "def tic_tac_toe_game_with_computer():\n",
    "    \"\"\"Tic Tac Toe game where one player is the computer (Player 2).\"\"\"\n",
    "    \n",
    "    # Create an empty 3x3 board\n",
    "    board = [[0 for _ in range(3)] for _ in range(3)]\n",
    "    \n",
    "    # Print the board\n",
    "    print(\"Welcome to Tic Tac Toe! You are Player 1 (X), the computer is Player 2 (O).\")\n",
    "    draw_tic_tac_toe_with_matrix(board)\n",
    "    \n",
    "    # Start the game loop\n",
    "    player = 1  # Player 1 starts\n",
    "    while True:\n",
    "        if player == 1:\n",
    "            # Human player makes a move\n",
    "            get_player_move(board, player)\n",
    "        else:\n",
    "            # Computer makes a move\n",
    "            make_computer_move(board)\n",
    "        \n",
    "        # Display the updated board after the move\n",
    "        draw_tic_tac_toe_with_matrix(board)\n",
    "        \n",
    "        # Check the game status (Exercise 4)\n",
    "        status = check_game_status(board)\n",
    "        if status == 1:\n",
    "            print(\"Player 1 (X) wins!\")\n",
    "            break\n",
    "        elif status == 2:\n",
    "            print(\"Player 2 (O) wins! The computer wins!\")\n",
    "            break\n",
    "        elif status == 0:\n",
    "            print(\"It's a draw!\")\n",
    "            break\n",
    "        \n",
    "        # Switch turns\n",
    "        player = 2 if player == 1 else 1\n",
    "\n",
    "def make_computer_move(board):\n",
    "    \"\"\"Computer makes a move as Player 2 (O).\n",
    "    It checks for any immediate threats and tries to block Player 1's winning move,\n",
    "    or makes a random move otherwise.\"\"\"\n",
    "    \n",
    "    # Check for a blocking move first\n",
    "    if try_block_move(board):\n",
    "        return\n",
    "    \n",
    "    # If no blocking move, make a random move\n",
    "    make_random_move(board, 2)\n",
    "\n",
    "def try_block_move(board):\n",
    "    \"\"\"Check if the computer needs to block Player 1 from winning, \n",
    "    and place the 'O' in the necessary position if needed.\"\"\"\n",
    "    \n",
    "    for i in range(3):\n",
    "        for j in range(3):\n",
    "            if board[i][j] == 0:\n",
    "                # Temporarily place Player 1's marker to simulate\n",
    "                board[i][j] = 1\n",
    "                if check_game_status(board) == 1:\n",
    "                    # If Player 1 would win, block the move\n",
    "                    board[i][j] = 2\n",
    "                    return True\n",
    "                # Otherwise, undo the temporary move\n",
    "                board[i][j] = 0\n",
    "    \n",
    "    return False  # No blocking move needed\n",
    "\n",
    "def make_random_move(board, player):\n",
    "    \"\"\"Make a random move on an available spot.\"\"\"\n",
    "    available_moves = [(i, j) for i in range(3) for j in range(3) if board[i][j] == 0]\n",
    "    if available_moves:\n",
    "        x, y = random.choice(available_moves)\n",
    "        board[x][y] = player\n",
    "\n",
    "# Helper function to draw the Tic Tac Toe board\n",
    "def draw_tic_tac_toe_with_matrix(matrix):\n",
    "    \"\"\"Draws the tic-tac-toe board from a given matrix.\"\"\"\n",
    "    n = len(matrix)\n",
    "    symbols = {0: \" \", 1: \"X\", 2: \"O\"}\n",
    "    for i in range(n):\n",
    "        print(\"   \" + \" ---\" * n)\n",
    "        row = \"  |\"\n",
    "        for j in range(n):\n",
    "            row += f\" {symbols[matrix[i][j]]} |\"\n",
    "        print(row)\n",
    "    print(\"   \" + \" ---\" * n)\n"
   ]
  },
  {
   "cell_type": "code",
   "execution_count": 28,
   "metadata": {},
   "outputs": [
    {
     "name": "stdout",
     "output_type": "stream",
     "text": [
      "Welcome to Tic Tac Toe! You are Player 1 (X), the computer is Player 2 (O).\n",
      "    --- --- ---\n",
      "  |   |   |   |\n",
      "    --- --- ---\n",
      "  |   |   |   |\n",
      "    --- --- ---\n",
      "  |   |   |   |\n",
      "    --- --- ---\n"
     ]
    },
    {
     "name": "stdin",
     "output_type": "stream",
     "text": [
      "Player 1, enter your move (e.g., 'A1', 'B2'):  A1\n"
     ]
    },
    {
     "name": "stdout",
     "output_type": "stream",
     "text": [
      "Player 1 successfully placed a marker at A1.\n",
      "    --- --- ---\n",
      "  | X |   |   |\n",
      "    --- --- ---\n",
      "  |   |   |   |\n",
      "    --- --- ---\n",
      "  |   |   |   |\n",
      "    --- --- ---\n",
      "    --- --- ---\n",
      "  | X |   |   |\n",
      "    --- --- ---\n",
      "  |   | O |   |\n",
      "    --- --- ---\n",
      "  |   |   |   |\n",
      "    --- --- ---\n"
     ]
    },
    {
     "name": "stdin",
     "output_type": "stream",
     "text": [
      "Player 1, enter your move (e.g., 'A1', 'B2'):  A2\n"
     ]
    },
    {
     "name": "stdout",
     "output_type": "stream",
     "text": [
      "Player 1 successfully placed a marker at A2.\n",
      "    --- --- ---\n",
      "  | X |   |   |\n",
      "    --- --- ---\n",
      "  | X | O |   |\n",
      "    --- --- ---\n",
      "  |   |   |   |\n",
      "    --- --- ---\n",
      "    --- --- ---\n",
      "  | X |   |   |\n",
      "    --- --- ---\n",
      "  | X | O |   |\n",
      "    --- --- ---\n",
      "  | O |   |   |\n",
      "    --- --- ---\n"
     ]
    },
    {
     "name": "stdin",
     "output_type": "stream",
     "text": [
      "Player 1, enter your move (e.g., 'A1', 'B2'):  C1\n"
     ]
    },
    {
     "name": "stdout",
     "output_type": "stream",
     "text": [
      "Player 1 successfully placed a marker at C1.\n",
      "    --- --- ---\n",
      "  | X |   | X |\n",
      "    --- --- ---\n",
      "  | X | O |   |\n",
      "    --- --- ---\n",
      "  | O |   |   |\n",
      "    --- --- ---\n",
      "    --- --- ---\n",
      "  | X | O | X |\n",
      "    --- --- ---\n",
      "  | X | O |   |\n",
      "    --- --- ---\n",
      "  | O |   |   |\n",
      "    --- --- ---\n"
     ]
    },
    {
     "name": "stdin",
     "output_type": "stream",
     "text": [
      "Player 1, enter your move (e.g., 'A1', 'B2'):  b3\n"
     ]
    },
    {
     "name": "stdout",
     "output_type": "stream",
     "text": [
      "Player 1 successfully placed a marker at B3.\n",
      "    --- --- ---\n",
      "  | X | O | X |\n",
      "    --- --- ---\n",
      "  | X | O |   |\n",
      "    --- --- ---\n",
      "  | O | X |   |\n",
      "    --- --- ---\n",
      "    --- --- ---\n",
      "  | X | O | X |\n",
      "    --- --- ---\n",
      "  | X | O |   |\n",
      "    --- --- ---\n",
      "  | O | X | O |\n",
      "    --- --- ---\n"
     ]
    },
    {
     "name": "stdin",
     "output_type": "stream",
     "text": [
      "Player 1, enter your move (e.g., 'A1', 'B2'):  a1\n"
     ]
    },
    {
     "name": "stdout",
     "output_type": "stream",
     "text": [
      "That spot is already taken. Try again.\n"
     ]
    },
    {
     "name": "stdin",
     "output_type": "stream",
     "text": [
      "Player 1, enter your move (e.g., 'A1', 'B2'):  c2\n"
     ]
    },
    {
     "name": "stdout",
     "output_type": "stream",
     "text": [
      "Player 1 successfully placed a marker at C2.\n",
      "    --- --- ---\n",
      "  | X | O | X |\n",
      "    --- --- ---\n",
      "  | X | O | X |\n",
      "    --- --- ---\n",
      "  | O | X | O |\n",
      "    --- --- ---\n",
      "It's a draw!\n"
     ]
    }
   ],
   "source": [
    "# Call the Tic Tac Toe game function with the computer as Player 2\n",
    "tic_tac_toe_game_with_computer()\n"
   ]
  },
  {
   "cell_type": "code",
   "execution_count": null,
   "metadata": {},
   "outputs": [],
   "source": []
  }
 ],
 "metadata": {
  "kernelspec": {
   "display_name": "Python 3 (ipykernel)",
   "language": "python",
   "name": "python3"
  },
  "language_info": {
   "codemirror_mode": {
    "name": "ipython",
    "version": 3
   },
   "file_extension": ".py",
   "mimetype": "text/x-python",
   "name": "python",
   "nbconvert_exporter": "python",
   "pygments_lexer": "ipython3",
   "version": "3.10.12"
  }
 },
 "nbformat": 4,
 "nbformat_minor": 4
}
